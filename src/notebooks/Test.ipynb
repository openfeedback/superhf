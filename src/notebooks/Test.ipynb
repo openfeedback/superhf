{
 "cells": [
  {
   "cell_type": "markdown",
   "id": "f44ef2b9-624b-4932-8533-f8f38349c49e",
   "metadata": {},
   "source": [
    "# Test Notebook"
   ]
  },
  {
   "cell_type": "markdown",
   "id": "8c53e61b-886f-43bd-9072-e241d99aef21",
   "metadata": {},
   "source": [
    "### Prefix"
   ]
  },
  {
   "cell_type": "code",
   "execution_count": 2,
   "id": "42de834b-aa80-4c19-a1f1-1a16a9a0b6c7",
   "metadata": {},
   "outputs": [],
   "source": [
    "import sys\n",
    "sys.path.insert(0,'..')"
   ]
  },
  {
   "cell_type": "markdown",
   "id": "b5fee6b7-7667-4eea-8978-b7137c21088f",
   "metadata": {},
   "source": [
    "### Imports"
   ]
  },
  {
   "cell_type": "code",
   "execution_count": 3,
   "id": "3f1400a9-a59d-476a-afda-c91e69b23fb5",
   "metadata": {},
   "outputs": [],
   "source": [
    "from superhf import skeleton"
   ]
  }
 ],
 "metadata": {
  "kernelspec": {
   "display_name": "superhf",
   "language": "python",
   "name": "python3"
  },
  "language_info": {
   "codemirror_mode": {
    "name": "ipython",
    "version": 3
   },
   "file_extension": ".py",
   "mimetype": "text/x-python",
   "name": "python",
   "nbconvert_exporter": "python",
   "pygments_lexer": "ipython3",
   "version": "3.11.0 | packaged by conda-forge | (main, Jan 14 2023, 12:27:40) [GCC 11.3.0]"
  },
  "vscode": {
   "interpreter": {
    "hash": "1ce2dcb224a54ef42a2234ecaead97f3a53fa7d7007292d12d5afd0aed03cb8b"
   }
  }
 },
 "nbformat": 4,
 "nbformat_minor": 5
}
