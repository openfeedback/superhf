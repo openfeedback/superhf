{
 "cells": [
  {
   "attachments": {},
   "cell_type": "markdown",
   "metadata": {},
   "source": [
    "# Delete HF Hub Repos\n",
    "For deleting a bunch of old repos programmatically.\n",
    "\n",
    "Set regex for your models to delete below."
   ]
  },
  {
   "cell_type": "code",
   "execution_count": 24,
   "metadata": {},
   "outputs": [],
   "source": [
    "from huggingface_hub import HfApi\n",
    "\n",
    "api = HfApi()\n",
    "\n",
    "# Get all the repos you have access to\n",
    "username = api.whoami()['name']\n",
    "models = api.list_models(author=username)"
   ]
  },
  {
   "cell_type": "code",
   "execution_count": 25,
   "metadata": {},
   "outputs": [
    {
     "data": {
      "text/plain": [
       "['gmukobi/test-shf-model',\n",
       " 'gmukobi/pythia-1b-superhf-v1.0',\n",
       " 'gmukobi/test-repo',\n",
       " 'gmukobi/pythia-1b-superhf-v1.1',\n",
       " 'gmukobi/pythia-1b-superhf-v1.2',\n",
       " 'gmukobi/pythia-1b-superhf-v1.4',\n",
       " 'gmukobi/pythia-1b-superhf-v1.3',\n",
       " 'gmukobi/pythia-1b-superhf-v1.5',\n",
       " 'gmukobi/test-repo-kl-0.3-step-2',\n",
       " 'gmukobi/test-repo-kl-0.3-step-4',\n",
       " 'gmukobi/test-repo-kl-0.3-step-7',\n",
       " 'gmukobi/shf-7b-accum-4-step-1020',\n",
       " 'gmukobi/shf-7b-accum-3-step-1023',\n",
       " 'gmukobi/shf-7b-accum-8-step-1016',\n",
       " 'gmukobi/shf-7b-accum-2-step-1022',\n",
       " 'gmukobi/shf-7b-accum-1-step-1023',\n",
       " 'gmukobi/shf-7b-accum-32-step-992',\n",
       " 'gmukobi/shf-7b-accum-16-step-1008',\n",
       " 'gmukobi/shf-7b-accum-64-step-960',\n",
       " 'gmukobi/shf-7b-accum-128-step-896',\n",
       " 'gmukobi/new-test-repo-kl-0.3']"
      ]
     },
     "execution_count": 25,
     "metadata": {},
     "output_type": "execute_result"
    }
   ],
   "source": [
    "[model.id for model in models]"
   ]
  },
  {
   "cell_type": "code",
   "execution_count": 26,
   "metadata": {},
   "outputs": [
    {
     "name": "stdout",
     "output_type": "stream",
     "text": [
      "Here are the models to delete, does this look correct?\n",
      "['gmukobi/test-shf-model', 'gmukobi/pythia-1b-superhf-v1.0', 'gmukobi/test-repo', 'gmukobi/pythia-1b-superhf-v1.1', 'gmukobi/pythia-1b-superhf-v1.2', 'gmukobi/pythia-1b-superhf-v1.4', 'gmukobi/pythia-1b-superhf-v1.3', 'gmukobi/pythia-1b-superhf-v1.5', 'gmukobi/test-repo-kl-0.3-step-2', 'gmukobi/test-repo-kl-0.3-step-4', 'gmukobi/test-repo-kl-0.3-step-7', 'gmukobi/new-test-repo-kl-0.3']\n"
     ]
    }
   ],
   "source": [
    "# Set regex patterns to match the repos you want to delete\n",
    "import re\n",
    "\n",
    "# Match everything that does not contain 'shf-7b'\n",
    "pattern = re.compile(r'^(?!.*shf-7b).*$')\n",
    "\n",
    "to_delete = [model.id for model in models if pattern.match(model.id)]\n",
    "print(\"Here are the models to delete, does this look correct?\")\n",
    "print(to_delete)"
   ]
  },
  {
   "cell_type": "code",
   "execution_count": 27,
   "metadata": {},
   "outputs": [
    {
     "name": "stdout",
     "output_type": "stream",
     "text": [
      "Deleting gmukobi/test-shf-model... gone!\n",
      "Deleting gmukobi/pythia-1b-superhf-v1.0... gone!\n",
      "Deleting gmukobi/test-repo... gone!\n",
      "Deleting gmukobi/pythia-1b-superhf-v1.1... gone!\n",
      "Deleting gmukobi/pythia-1b-superhf-v1.2... gone!\n",
      "Deleting gmukobi/pythia-1b-superhf-v1.4... gone!\n",
      "Deleting gmukobi/pythia-1b-superhf-v1.3... gone!\n",
      "Deleting gmukobi/pythia-1b-superhf-v1.5... gone!\n",
      "Deleting gmukobi/test-repo-kl-0.3-step-2... gone!\n",
      "Deleting gmukobi/test-repo-kl-0.3-step-4... gone!\n",
      "Deleting gmukobi/test-repo-kl-0.3-step-7... gone!\n",
      "Deleting gmukobi/new-test-repo-kl-0.3... gone!\n"
     ]
    }
   ],
   "source": [
    "# Prevent the notebook from contining without user input if the user clicked Run All\n",
    "response = input(f\"About to delete {len(to_delete)} models, proceed? (y/N)\")\n",
    "if response.lower() != \"y\":\n",
    "    print(\"Aborting...\")\n",
    "    raise SystemExit(0)\n",
    "\n",
    "# Delete them\n",
    "for model_id in to_delete:\n",
    "    print(f\"Deleting {model_id}...\", end=\" \")\n",
    "    api.delete_repo(model_id)\n",
    "    print(\"gone!\")"
   ]
  }
 ],
 "metadata": {
  "kernelspec": {
   "display_name": "superhf",
   "language": "python",
   "name": "python3"
  },
  "language_info": {
   "codemirror_mode": {
    "name": "ipython",
    "version": 3
   },
   "file_extension": ".py",
   "mimetype": "text/x-python",
   "name": "python",
   "nbconvert_exporter": "python",
   "pygments_lexer": "ipython3",
   "version": "3.10.10"
  },
  "orig_nbformat": 4
 },
 "nbformat": 4,
 "nbformat_minor": 2
}
